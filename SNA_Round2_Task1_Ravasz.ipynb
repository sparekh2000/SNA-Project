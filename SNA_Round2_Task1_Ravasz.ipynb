{
  "nbformat": 4,
  "nbformat_minor": 0,
  "metadata": {
    "colab": {
      "name": "SNA_Round2_Task1-Ravasz.ipynb",
      "provenance": [],
      "collapsed_sections": []
    },
    "kernelspec": {
      "name": "python3",
      "display_name": "Python 3"
    },
    "language_info": {
      "name": "python"
    }
  },
  "cells": [
    {
      "cell_type": "markdown",
      "metadata": {
        "id": "AwcSX0-8bQz4"
      },
      "source": [
        "## Round 2 - Problem 1.2.2 : Ravasz Agglomerative Clustering Algorithm"
      ]
    },
    {
      "cell_type": "code",
      "metadata": {
        "id": "mEmys18szR1g"
      },
      "source": [
        "import networkx as nx\n",
        "import math\n",
        "import numpy as np,numpy.random\n",
        "import pandas as pd\n",
        "import matplotlib.pyplot as plt\n",
        "%matplotlib inline"
      ],
      "execution_count": null,
      "outputs": []
    },
    {
      "cell_type": "code",
      "metadata": {
        "id": "XQ6yRhI0If8n"
      },
      "source": [
        "df=pd.read_csv('musae_squirrel_edges.csv')\n",
        "df.rename(columns={\"id1\": \"From\", \"id2\": \"To\"},inplace=True)"
      ],
      "execution_count": null,
      "outputs": []
    },
    {
      "cell_type": "code",
      "metadata": {
        "id": "7Pun-AWQIASl"
      },
      "source": [
        "dataset=df.head(1000)"
      ],
      "execution_count": null,
      "outputs": []
    },
    {
      "cell_type": "code",
      "metadata": {
        "colab": {
          "base_uri": "https://localhost:8080/"
        },
        "id": "RQNDGJAvDE2u",
        "outputId": "5ce8fd42-6573-4c5b-a18a-4c3c9889122f"
      },
      "source": [
        "dataset.info"
      ],
      "execution_count": null,
      "outputs": [
        {
          "output_type": "execute_result",
          "data": {
            "text/plain": [
              "<bound method DataFrame.info of      From    To\n",
              "0    3475  2849\n",
              "1    3475  3106\n",
              "2    3475   808\n",
              "3    3475  4555\n",
              "4    3475  3563\n",
              "..    ...   ...\n",
              "995  4914  4879\n",
              "996  4914  5199\n",
              "997  4914  3228\n",
              "998  4914  4660\n",
              "999  4914  3510\n",
              "\n",
              "[1000 rows x 2 columns]>"
            ]
          },
          "metadata": {
            "tags": []
          },
          "execution_count": 5
        }
      ]
    },
    {
      "cell_type": "code",
      "metadata": {
        "id": "P-fwGP2c-rZN"
      },
      "source": [
        "G = nx.from_pandas_edgelist(dataset,source=\"From\",target=\"To\")"
      ],
      "execution_count": null,
      "outputs": []
    },
    {
      "cell_type": "code",
      "metadata": {
        "id": "RYZaNkyD-xr4"
      },
      "source": [
        "pos = nx.spring_layout(G)"
      ],
      "execution_count": null,
      "outputs": []
    },
    {
      "cell_type": "code",
      "metadata": {
        "id": "M7NA6kX--9jI",
        "colab": {
          "base_uri": "https://localhost:8080/"
        },
        "outputId": "69603c44-155f-45bc-ca89-a47c8831faf9"
      },
      "source": [
        "len(pos)"
      ],
      "execution_count": null,
      "outputs": [
        {
          "output_type": "execute_result",
          "data": {
            "text/plain": [
              "367"
            ]
          },
          "metadata": {
            "tags": []
          },
          "execution_count": 168
        }
      ]
    },
    {
      "cell_type": "code",
      "metadata": {
        "colab": {
          "base_uri": "https://localhost:8080/",
          "height": 319
        },
        "id": "uHYUGXLyBcGj",
        "outputId": "4db4c30f-6fb0-477c-fdb5-f4578c1fa0cf"
      },
      "source": [
        "\n",
        "nx.draw(G,pos=pos)"
      ],
      "execution_count": null,
      "outputs": [
        {
          "output_type": "display_data",
          "data": {
            "image/png": "[encoded data removed]",
            "text/plain": [
              "<Figure size 432x288 with 1 Axes>"
            ]
          },
          "metadata": {
            "tags": []
          }
        }
      ]
    },
    {
      "cell_type": "code",
      "metadata": {
        "colab": {
          "base_uri": "https://localhost:8080/"
        },
        "id": "a43-SJkrRajf",
        "outputId": "d0ee8d76-e7d0-499e-ff3f-c17e58f3e9eb"
      },
      "source": [
        "pos"
      ],
      "execution_count": null,
      "outputs": [
        {
          "output_type": "execute_result",
          "data": {
            "text/plain": [
              "{64: array([-0.05777113, -0.08546279]),\n",
              " 169: array([-0.71671786,  0.65716267]),\n",
              " 313: array([ 0.32222167, -0.07200751]),\n",
              " 323: array([-0.95717068,  0.16845032]),\n",
              " 380: array([-0.11356771, -0.05941667]),\n",
              " 390: array([-0.00550638, -0.13987895]),\n",
              " 402: array([0.03965343, 0.16440398]),\n",
              " 450: array([-0.0253681 , -0.08510121]),\n",
              " 514: array([-0.04098196,  0.06752162]),\n",
              " 573: array([ 0.46157157, -0.03088656]),\n",
              " 587: array([ 0.20516303, -0.19222439]),\n",
              " 613: array([-0.00227118,  0.00776236]),\n",
              " 633: array([-0.02966516, -0.01944385]),\n",
              " 695: array([-0.06316036,  0.14051684]),\n",
              " 715: array([0.0756034 , 0.23755339]),\n",
              " 737: array([-0.01602414,  0.05500224]),\n",
              " 777: array([-0.01642633, -0.46071816]),\n",
              " 782: array([-0.04136627,  0.0260653 ]),\n",
              " 792: array([0.14956461, 0.11327951]),\n",
              " 808: array([ 0.19216243, -0.26370365]),\n",
              " 817: array([-0.10015194, -0.24082499]),\n",
              " 912: array([-0.02226652,  0.0421169 ]),\n",
              " 920: array([0.00818846, 0.13589698]),\n",
              " 930: array([-0.0184359 , -0.09039275]),\n",
              " 1039: array([-0.20486331,  0.17929731]),\n",
              " 1087: array([-0.14697893,  0.02700647]),\n",
              " 1106: array([-0.02607457,  0.06301156]),\n",
              " 1187: array([ 0.46751353, -0.01725126]),\n",
              " 1235: array([-0.12569402, -0.02614747]),\n",
              " 1270: array([-0.01628256, -0.01639529]),\n",
              " 1291: array([-0.06506352,  0.00341148]),\n",
              " 1316: array([ 0.22479816, -0.41805014]),\n",
              " 1346: array([-0.03643842, -0.00051288]),\n",
              " 1481: array([-0.21205135,  0.18803886]),\n",
              " 1486: array([0.0002922 , 0.04733337]),\n",
              " 1498: array([0.27858761, 0.04375162]),\n",
              " 1527: array([ 0.21847287, -0.28521734]),\n",
              " 1548: array([-0.0673496 ,  0.05024725]),\n",
              " 1618: array([-0.07906545,  0.01578043]),\n",
              " 1638: array([-0.06792375,  0.02272345]),\n",
              " 1654: array([-0.21733722,  0.16925574]),\n",
              " 1655: array([-0.05716232, -0.01168906]),\n",
              " 1869: array([ 0.10025055, -0.19838754]),\n",
              " 1883: array([-0.19448567,  0.19938707]),\n",
              " 1950: array([-0.02303879, -0.00432249]),\n",
              " 2016: array([-0.07571538,  0.04485509]),\n",
              " 2021: array([ 0.40648515, -0.02777663]),\n",
              " 2031: array([-0.03622691, -0.0211915 ]),\n",
              " 2040: array([-0.04586798,  0.03350597]),\n",
              " 2068: array([-0.00568417, -0.00491645]),\n",
              " 2089: array([-0.14973496,  0.01119277]),\n",
              " 2103: array([-0.00451777,  0.01665674]),\n",
              " 2119: array([ 0.16518683, -0.14822519]),\n",
              " 2173: array([-0.21389861,  0.1771988 ]),\n",
              " 2219: array([ 0.27008017, -0.39558965]),\n",
              " 2238: array([-0.75833828,  0.63064798]),\n",
              " 2304: array([0.00082111, 0.05512483]),\n",
              " 2305: array([-0.05777613,  0.00386066]),\n",
              " 2344: array([ 0.03363015, -0.0707793 ]),\n",
              " 2349: array([-0.03479537, -0.0115658 ]),\n",
              " 2352: array([-0.01373869,  0.13156707]),\n",
              " 2371: array([-0.11897347,  0.12114205]),\n",
              " 2389: array([-0.02348964,  0.05555219]),\n",
              " 2402: array([0.29799326, 0.02928406]),\n",
              " 2404: array([-0.10455638, -0.05801671]),\n",
              " 2408: array([ 0.32846306, -0.05809004]),\n",
              " 2420: array([-0.07510791,  0.02220618]),\n",
              " 2500: array([0.03209812, 0.11913034]),\n",
              " 2523: array([-0.0208723 ,  0.00909223]),\n",
              " 2539: array([ 0.33295869, -0.07996133]),\n",
              " 2626: array([0.23530738, 0.00299583]),\n",
              " 2677: array([-0.12733916,  0.0688447 ]),\n",
              " 2717: array([-0.10292276,  0.05510114]),\n",
              " 2763: array([-0.16430739,  0.15095378]),\n",
              " 2805: array([-0.05944738,  0.04792715]),\n",
              " 2809: array([-0.13198628, -0.04341934]),\n",
              " 2811: array([-0.06623668,  0.03215914]),\n",
              " 2820: array([0.05329067, 0.24309399]),\n",
              " 2849: array([ 0.19517924, -0.29722438]),\n",
              " 2853: array([-0.11720861, -0.0514664 ]),\n",
              " 2857: array([-0.06483152, -0.06574983]),\n",
              " 2864: array([ 0.22562356, -0.18441595]),\n",
              " 2872: array([0.01095202, 0.03305175]),\n",
              " 2884: array([-0.03240167, -0.09224793]),\n",
              " 2890: array([-0.16454438,  0.14696101]),\n",
              " 2920: array([-0.07804724,  0.12768485]),\n",
              " 2930: array([-0.74020283,  0.65232196]),\n",
              " 2954: array([ 0.21995915, -0.19663298]),\n",
              " 2955: array([-0.06001232,  0.01995963]),\n",
              " 2958: array([-0.79044349, -0.44388075]),\n",
              " 2972: array([-0.75184061, -0.42161774]),\n",
              " 3022: array([-0.01624244,  0.00046747]),\n",
              " 3031: array([-0.01306594, -0.00826678]),\n",
              " 3063: array([-0.09355533,  0.11540364]),\n",
              " 3066: array([-0.07971202,  0.02609042]),\n",
              " 3071: array([ 0.00215191, -0.08730349]),\n",
              " 3078: array([-0.14322169, -0.02144235]),\n",
              " 3106: array([ 0.20756505, -0.29272619]),\n",
              " 3115: array([-0.139373 , -0.0011087]),\n",
              " 3142: array([0.00670992, 0.00788565]),\n",
              " 3143: array([-0.05358734, -0.0415904 ]),\n",
              " 3196: array([1.87935040e-05, 1.26564373e-01]),\n",
              " 3199: array([-0.00638834,  0.02441933]),\n",
              " 3206: array([-0.01051152, -0.08776649]),\n",
              " 3210: array([0.01027161, 0.00018994]),\n",
              " 3228: array([ 0.06871086, -0.20660784]),\n",
              " 3232: array([-0.08562149,  0.12285583]),\n",
              " 3253: array([ 0.24214898, -0.41185102]),\n",
              " 3264: array([-0.07781793, -0.06994038]),\n",
              " 3310: array([-0.04441953,  0.01471389]),\n",
              " 3327: array([ 0.15115106, -0.28344002]),\n",
              " 3343: array([ 0.06402225, -0.03979879]),\n",
              " 3365: array([-0.01505426,  0.06377799]),\n",
              " 3372: array([ 0.34351213, -0.04719821]),\n",
              " 3396: array([-0.01452612,  0.07067779]),\n",
              " 3397: array([-0.01591141,  0.14062793]),\n",
              " 3403: array([0.04646204, 0.00790833]),\n",
              " 3413: array([ 0.25836777, -0.41576186]),\n",
              " 3434: array([0.06552969, 0.09287837]),\n",
              " 3443: array([0.0111672 , 0.01301666]),\n",
              " 3462: array([0.06160513, 0.01594464]),\n",
              " 3475: array([ 0.17686942, -0.23605954]),\n",
              " 3494: array([-0.06848044,  0.00866914]),\n",
              " 3501: array([0.00536133, 0.04260115]),\n",
              " 3502: array([-0.14504794, -0.01178732]),\n",
              " 3510: array([ 0.05663066, -0.21394958]),\n",
              " 3521: array([-0.02007686,  0.06607615]),\n",
              " 3563: array([ 0.03222564, -0.24921768]),\n",
              " 3580: array([0.02024304, 0.08748815]),\n",
              " 3595: array([0.28522785, 0.03354303]),\n",
              " 3603: array([ 0.25450285, -0.40290329]),\n",
              " 3609: array([-0.04189408, -0.50834294]),\n",
              " 3630: array([ 0.26826234, -0.40764026]),\n",
              " 3644: array([-0.19400486,  0.19113444]),\n",
              " 3659: array([0.46513407, 0.00568364]),\n",
              " 3668: array([-0.12399763,  0.1147547 ]),\n",
              " 3671: array([-0.00221844,  0.13682795]),\n",
              " 3687: array([ 0.47675441, -0.02403838]),\n",
              " 3691: array([0.08249121, 0.06000341]),\n",
              " 3699: array([-0.07659788,  0.03679538]),\n",
              " 3700: array([-0.74647003,  0.67681929]),\n",
              " 3713: array([-0.05760498,  0.02835296]),\n",
              " 3730: array([0.15806281, 0.07522275]),\n",
              " 3744: array([ 0.01777084, -0.0565942 ]),\n",
              " 3761: array([-0.01293765,  0.04811188]),\n",
              " 3764: array([-0.11839192, -0.03822997]),\n",
              " 3765: array([-0.14223333,  0.01756385]),\n",
              " 3777: array([-0.07949057, -0.07891273]),\n",
              " 3807: array([-0.02271173, -0.01966458]),\n",
              " 3820: array([-0.03601021,  0.07305491]),\n",
              " 3829: array([ 0.32150228, -0.08594131]),\n",
              " 3852: array([ 0.04071035, -0.02671589]),\n",
              " 3861: array([0.02189627, 0.02453626]),\n",
              " 3869: array([-0.13035831, -0.03440108]),\n",
              " 3874: array([ 0.45795691, -0.00780004]),\n",
              " 3876: array([-0.05580453, -0.00361974]),\n",
              " 3889: array([ 0.01478847, -0.00115676]),\n",
              " 3891: array([0.15549526, 0.08549866]),\n",
              " 3899: array([-0.02777932, -0.01411895]),\n",
              " 3908: array([-0.00357497,  0.08182836]),\n",
              " 3909: array([0.14079302, 0.11058389]),\n",
              " 3938: array([-0.05623653,  0.13587563]),\n",
              " 3948: array([-0.05205565,  0.00727147]),\n",
              " 3975: array([ 0.33755908, -0.0693329 ]),\n",
              " 3980: array([-0.06196509,  0.04224423]),\n",
              " 4002: array([-0.02096177, -0.01185378]),\n",
              " 4015: array([0.28718703, 0.02020379]),\n",
              " 4016: array([0.01060925, 0.0196901 ]),\n",
              " 4024: array([-0.14918403, -0.00116739]),\n",
              " 4052: array([-0.07153626,  0.13460485]),\n",
              " 4066: array([0.06439588, 0.24025444]),\n",
              " 4084: array([ 0.33561084, -0.00664378]),\n",
              " 4088: array([0.06049752, 0.09532689]),\n",
              " 4094: array([-0.05204804,  0.02277778]),\n",
              " 4120: array([-0.02856709,  0.07347895]),\n",
              " 4128: array([-0.13835016, -0.03014103]),\n",
              " 4129: array([-0.04638184,  0.00192998]),\n",
              " 4142: array([0.05236662, 0.10730008]),\n",
              " 4158: array([ 0.03849986, -0.03908334]),\n",
              " 4160: array([-0.02124967,  0.07245272]),\n",
              " 4183: array([0.28769489, 0.05350995]),\n",
              " 4207: array([0.06159075, 0.02143689]),\n",
              " 4208: array([0.01976699, 0.01054082]),\n",
              " 4217: array([-0.04550265, -0.01897817]),\n",
              " 4219: array([-0.03859348,  0.00712022]),\n",
              " 4232: array([-0.04016275, -0.015171  ]),\n",
              " 4236: array([ 0.32306407, -0.01831158]),\n",
              " 4251: array([0.01612141, 0.02874064]),\n",
              " 4260: array([0.02353325, 0.12195667]),\n",
              " 4267: array([0.30658387, 0.01286854]),\n",
              " 4275: array([0.05967299, 0.01832028]),\n",
              " 4284: array([-0.03403938,  0.0195621 ]),\n",
              " 4295: array([ 0.12537948, -0.17519176]),\n",
              " 4303: array([0.07064997, 0.00311431]),\n",
              " 4319: array([ 0.01393196, -0.07573837]),\n",
              " 4320: array([-0.06614446,  0.12419199]),\n",
              " 4321: array([-0.03633085,  0.037937  ]),\n",
              " 4322: array([0.01565954, 0.0214258 ]),\n",
              " 4329: array([-0.02505368,  0.10848788]),\n",
              " 4346: array([ 0.02488205, -0.01725194]),\n",
              " 4347: array([-0.05183417,  0.01413278]),\n",
              " 4365: array([ 0.04794558, -0.01957539]),\n",
              " 4369: array([-0.03699867,  0.0532448 ]),\n",
              " 4380: array([-0.09103016, -0.04617977]),\n",
              " 4382: array([-0.10522904,  0.1015503 ]),\n",
              " 4391: array([ 0.47226243, -0.00489715]),\n",
              " 4398: array([ 0.2149157 , -0.18077285]),\n",
              " 4406: array([0.00553944, 0.05725028]),\n",
              " 4408: array([0.00346694, 0.01809762]),\n",
              " 4410: array([ 0.28724912, -0.02437025]),\n",
              " 4414: array([ 0.29806383, -0.00061962]),\n",
              " 4419: array([0.02110813, 0.049463  ]),\n",
              " 4428: array([-0.06916885,  0.0281117 ]),\n",
              " 4431: array([0.01368503, 0.12596708]),\n",
              " 4434: array([0.15079798, 0.10215962]),\n",
              " 4439: array([-0.10551455, -0.06797194]),\n",
              " 4449: array([-0.0315388,  0.1443272]),\n",
              " 4450: array([-0.07010379,  0.08877988]),\n",
              " 4465: array([0.05557833, 0.03732819]),\n",
              " 4471: array([0.05973834, 0.08308645]),\n",
              " 4475: array([-0.04255554, -0.09040686]),\n",
              " 4476: array([-0.02292789, -0.21661588]),\n",
              " 4481: array([ 0.28522788, -0.01514937]),\n",
              " 4528: array([-0.00669649,  0.05133139]),\n",
              " 4530: array([-0.00253604,  0.03139658]),\n",
              " 4542: array([-0.049219  ,  0.14343404]),\n",
              " 4543: array([ 0.02522977, -0.07650128]),\n",
              " 4544: array([-0.0893999 ,  0.07635742]),\n",
              " 4545: array([ 0.08667033, -0.21508637]),\n",
              " 4551: array([-0.04837066, -0.08415396]),\n",
              " 4555: array([ 0.2935479 , -0.13138228]),\n",
              " 4564: array([-0.04996396,  0.13002099]),\n",
              " 4567: array([0.01609604, 0.03776489]),\n",
              " 4571: array([-0.01647045,  0.01769145]),\n",
              " 4574: array([-0.0572632 ,  0.05860956]),\n",
              " 4585: array([-0.00479382,  0.14641747]),\n",
              " 4587: array([-0.14335709,  0.03733721]),\n",
              " 4591: array([0.30755406, 0.03806313]),\n",
              " 4595: array([-0.04669324,  0.06126993]),\n",
              " 4598: array([0.05484696, 0.09181727]),\n",
              " 4616: array([-0.05033861,  0.09673377]),\n",
              " 4621: array([-0.06284122, -0.00292183]),\n",
              " 4625: array([-0.00913744,  0.05912009]),\n",
              " 4627: array([-0.05244322, -0.0167845 ]),\n",
              " 4629: array([0.01301037, 0.04416916]),\n",
              " 4638: array([-0.12431665, -0.04896699]),\n",
              " 4640: array([-0.06123107,  0.05520335]),\n",
              " 4650: array([-0.06482339, -0.49264905]),\n",
              " 4655: array([-0.9395264 ,  0.36870832]),\n",
              " 4658: array([ 0.33396874, -0.04246239]),\n",
              " 4660: array([ 0.07916184, -0.20844484]),\n",
              " 4664: array([ 0.22245883, -0.36025464]),\n",
              " 4665: array([-0.01452014,  0.02990282]),\n",
              " 4687: array([ 0.04379581, -0.04514086]),\n",
              " 4698: array([-0.05445491,  0.03690834]),\n",
              " 4713: array([0.0055015 , 0.03542215]),\n",
              " 4716: array([-1.        ,  0.17388085]),\n",
              " 4721: array([-0.02413446,  0.03935598]),\n",
              " 4727: array([-0.05287272,  0.04860027]),\n",
              " 4730: array([0.06525361, 0.07766382]),\n",
              " 4743: array([-0.13935753,  0.04424355]),\n",
              " 4757: array([ 0.47277134, -0.03726766]),\n",
              " 4758: array([0.03891154, 0.0762783 ]),\n",
              " 4766: array([0.30885407, 0.02471661]),\n",
              " 4767: array([-0.03853459,  0.06054629]),\n",
              " 4772: array([0.29676308, 0.04260439]),\n",
              " 4775: array([-0.06356188, -0.05084101]),\n",
              " 4783: array([-0.04513631,  0.0532002 ]),\n",
              " 4786: array([-0.00295905,  0.03898917]),\n",
              " 4796: array([-0.08995479,  0.08442506]),\n",
              " 4799: array([-0.89936224,  0.3534744 ]),\n",
              " 4801: array([-0.07274801,  0.00266263]),\n",
              " 4809: array([0.00828697, 0.05027788]),\n",
              " 4822: array([-0.00887299,  0.00117889]),\n",
              " 4823: array([-0.1384374 ,  0.02673576]),\n",
              " 4825: array([-0.0690118, -0.0034199]),\n",
              " 4829: array([0.02154362, 0.03279372]),\n",
              " 4835: array([-0.02630012,  0.13398163]),\n",
              " 4839: array([ 0.00519321, -0.00837944]),\n",
              " 4841: array([0.29830318, 0.0535788 ]),\n",
              " 4846: array([ 0.01257107, -0.08427075]),\n",
              " 4847: array([ 0.0109409 , -0.02100984]),\n",
              " 4848: array([ 0.05322035, -0.05601718]),\n",
              " 4855: array([-0.19193111, -0.2339016 ]),\n",
              " 4862: array([ 0.10128009, -0.41569715]),\n",
              " 4864: array([-0.00722188,  0.06624874]),\n",
              " 4867: array([-0.06239584,  0.03627494]),\n",
              " 4868: array([-0.02858628,  0.00527231]),\n",
              " 4869: array([-0.13273051, -0.00786196]),\n",
              " 4879: array([ 0.0043994 , -0.03616624]),\n",
              " 4883: array([-0.13824696,  0.05314213]),\n",
              " 4891: array([-0.13218664, -0.01782899]),\n",
              " 4903: array([0.01638136, 0.0713283 ]),\n",
              " 4904: array([ 0.00367161, -0.00387928]),\n",
              " 4906: array([ 0.19718307, -0.204481  ]),\n",
              " 4912: array([-0.05805339,  0.06357068]),\n",
              " 4913: array([-0.03090785,  0.05565818]),\n",
              " 4914: array([ 0.06236821, -0.14154063]),\n",
              " 4917: array([ 0.04230653, -0.06512688]),\n",
              " 4922: array([0.02178216, 0.13526689]),\n",
              " 4928: array([-0.13875786,  0.00809848]),\n",
              " 4931: array([-0.04043124,  0.14626437]),\n",
              " 4935: array([-0.03821212,  0.13293184]),\n",
              " 4943: array([-0.01112597,  0.03888809]),\n",
              " 4956: array([0.29468621, 0.0104546 ]),\n",
              " 4961: array([-0.07643119,  0.03122405]),\n",
              " 4965: array([ 0.23904952, -0.17962877]),\n",
              " 4966: array([-0.08254303,  0.07663987]),\n",
              " 4978: array([0.27812492, 0.05850849]),\n",
              " 4981: array([-0.04125937, -0.00667681]),\n",
              " 4989: array([ 0.24881038, -0.42397975]),\n",
              " 5002: array([0.06566166, 0.06904316]),\n",
              " 5007: array([-0.02897234, -0.0388714 ]),\n",
              " 5010: array([0.01440522, 0.00730018]),\n",
              " 5014: array([-0.04839386,  0.04155738]),\n",
              " 5015: array([-0.12100673,  0.03530448]),\n",
              " 5016: array([0.33711287, 0.00127769]),\n",
              " 5023: array([-0.06901537,  0.04510185]),\n",
              " 5027: array([0.00218827, 0.00187475]),\n",
              " 5030: array([ 0.46608664, -0.04872027]),\n",
              " 5033: array([-0.07318849,  0.01579622]),\n",
              " 5039: array([-0.02270723,  0.14783025]),\n",
              " 5043: array([ 0.00053703, -0.01467896]),\n",
              " 5044: array([-0.02961269, -0.0058572 ]),\n",
              " 5050: array([0.05136765, 0.09897325]),\n",
              " 5055: array([-0.0482598 ,  0.08866264]),\n",
              " 5057: array([ 0.27068657, -0.04333955]),\n",
              " 5063: array([-0.0677333 ,  0.05577945]),\n",
              " 5064: array([-0.01038748, -0.01683802]),\n",
              " 5067: array([-0.75302825,  0.64321755]),\n",
              " 5071: array([-0.00885455,  0.01085212]),\n",
              " 5074: array([-0.70134244, -0.39255277]),\n",
              " 5078: array([ 0.34254969, -0.05934278]),\n",
              " 5093: array([-0.06869856, -0.48128099]),\n",
              " 5095: array([-0.06061644,  0.01157651]),\n",
              " 5099: array([0.45465552, 0.01049925]),\n",
              " 5100: array([ 0.09303337, -0.20574225]),\n",
              " 5102: array([-0.0015272 ,  0.06154898]),\n",
              " 5105: array([ 0.21015829, -0.20484413]),\n",
              " 5112: array([0.01275492, 0.07459068]),\n",
              " 5115: array([0.13745817, 0.12271169]),\n",
              " 5117: array([-0.04909941, -0.00466593]),\n",
              " 5121: array([-0.02441581,  0.02393405]),\n",
              " 5122: array([-0.05448691, -0.5008163 ]),\n",
              " 5123: array([-0.20265316,  0.18998193]),\n",
              " 5125: array([0.15614289, 0.09487045]),\n",
              " 5126: array([-0.03358335,  0.06646802]),\n",
              " 5132: array([-0.07110989,  0.03918445]),\n",
              " 5142: array([-0.00541398, -0.01178718]),\n",
              " 5145: array([-0.0524833 ,  0.05558178]),\n",
              " 5146: array([0.02207214, 0.01705547]),\n",
              " 5148: array([-0.0482952, -0.0111736]),\n",
              " 5150: array([-0.09554778, -0.0707994 ]),\n",
              " 5160: array([0.00695291, 0.02683153]),\n",
              " 5164: array([-0.07549918,  0.00860933]),\n",
              " 5165: array([-0.05133367,  0.06577489]),\n",
              " 5169: array([-0.06301984, -0.00997049]),\n",
              " 5174: array([-0.01608788, -0.03006792]),\n",
              " 5185: array([-0.0048777 , -0.08063932]),\n",
              " 5186: array([-0.0663657 ,  0.01611954]),\n",
              " 5189: array([-0.04062201,  0.04553095]),\n",
              " 5192: array([-0.0350175, -0.0756048]),\n",
              " 5193: array([-0.04602044,  0.0698546 ]),\n",
              " 5194: array([ 0.23484231, -0.42355763]),\n",
              " 5196: array([0.0242831 , 0.04233565]),\n",
              " 5197: array([-0.08753173,  0.10081258]),\n",
              " 5199: array([ 0.06872815, -0.21882806])}"
            ]
          },
          "metadata": {
            "tags": []
          },
          "execution_count": 8
        }
      ]
    },
    {
      "cell_type": "code",
      "metadata": {
        "id": "jYIlFNXuBlXX"
      },
      "source": [
        " row,col=(len(pos),len(pos))\n",
        " distance = np.array([[-1]*col]*row)\n",
        " distance=distance.astype(float)"
      ],
      "execution_count": null,
      "outputs": []
    },
    {
      "cell_type": "code",
      "metadata": {
        "id": "rSL6EwHPvbEe"
      },
      "source": [
        "coor=[]"
      ],
      "execution_count": null,
      "outputs": []
    },
    {
      "cell_type": "code",
      "metadata": {
        "id": "Ik4L5mCFx-1d"
      },
      "source": [
        "i=0\n",
        "for k in pos.keys():\n",
        "  coor.insert(i,pos[k])\n",
        "  i=i+1\n"
      ],
      "execution_count": null,
      "outputs": []
    },
    {
      "cell_type": "code",
      "metadata": {
        "id": "muvsNakWr_ee"
      },
      "source": [
        "for j in range(col):\n",
        "  for i in range(row):\n",
        "    if (i>=j):\n",
        "      temp1=abs(coor[j][0]-coor[i][0]) \n",
        "      temp1=temp1*temp1\n",
        "      temp2=abs(coor[j][1]-coor[i][1]) \n",
        "      temp2=temp2*temp2\n",
        "      distance[i][j]=round(math.sqrt(temp1+temp2),5)"
      ],
      "execution_count": null,
      "outputs": []
    },
    {
      "cell_type": "code",
      "metadata": {
        "colab": {
          "base_uri": "https://localhost:8080/"
        },
        "id": "x9fXvycbyr28",
        "outputId": "54f355f3-c8bf-49ee-f604-174ee8572fa3"
      },
      "source": [
        "distance"
      ],
      "execution_count": null,
      "outputs": [
        {
          "output_type": "execute_result",
          "data": {
            "text/plain": [
              "array([[ 0.     , -1.     , -1.     , ..., -1.     , -1.     , -1.     ],\n",
              "       [ 0.05356,  0.     , -1.     , ..., -1.     , -1.     , -1.     ],\n",
              "       [ 0.05835,  0.01463,  0.     , ..., -1.     , -1.     , -1.     ],\n",
              "       ...,\n",
              "       [ 1.04791,  1.0974 ,  1.1056 , ...,  0.     , -1.     , -1.     ],\n",
              "       [ 1.05378,  1.10273,  1.11123, ...,  0.02823,  0.     , -1.     ],\n",
              "       [ 1.06612,  1.11451,  1.1233 , ...,  0.05779,  0.02982,  0.     ]])"
            ]
          },
          "metadata": {
            "tags": []
          },
          "execution_count": 184
        }
      ]
    },
    {
      "cell_type": "code",
      "metadata": {
        "id": "eDi51wx1DNuW"
      },
      "source": [
        "vec=[]"
      ],
      "execution_count": null,
      "outputs": []
    },
    {
      "cell_type": "code",
      "metadata": {
        "id": "V-mkoVGKzslC"
      },
      "source": [
        "for i in range(row):\n",
        "  ro=[]\n",
        "  ro.append(i)\n",
        "  vec.append(ro)"
      ],
      "execution_count": null,
      "outputs": []
    },
    {
      "cell_type": "code",
      "metadata": {
        "colab": {
          "base_uri": "https://localhost:8080/"
        },
        "id": "eyjKz2Qlzshj",
        "outputId": "3de1cb1a-6ef9-4e6d-d23b-80aa7937733e"
      },
      "source": [
        "for steps in range(0,5):\n",
        "  nodes=len(vec)\n",
        "  if nodes==1:\n",
        "    break\n",
        "  matrix=np.array([[-1]*nodes]*nodes)\n",
        "  matrix=matrix.astype(float)  \n",
        "  for j in range(0,nodes):\n",
        "    for i in range(j,nodes):\n",
        "\n",
        "      mini=100000.4567\n",
        "      for k in range(0,len(vec[i])):\n",
        "        for m in range(0,len(vec[j])):\n",
        "          if distance[vec[i][k]][vec[j][m]]!=-1 and distance[vec[i][k]][vec[j][m]]<mini:\n",
        "            mini=distance[vec[i][k]][vec[j][m]]\n",
        "      matrix[i][j]=mini\n",
        "\n",
        "  minim=100000.54\n",
        "  x=0\n",
        "  y=0\n",
        "  for j in range(0,nodes):\n",
        "    for i in range(0,nodes):\n",
        "      if i>j and matrix[i][j]<minim:\n",
        "        minim=matrix[i][j]\n",
        "        x=i\n",
        "        y=j\n",
        "  # print(matrix)\n",
        "  print(minim)\n",
        "  for i in range(0,len(vec[x])):\n",
        "    print((vec[x][i]+1),',',end='')\n",
        "  print('-->',end='')\n",
        "  for i in range(0,len(vec[y])):\n",
        "    print((vec[y][i]+1),',',end='')\n",
        "  print('\\n')\n",
        "  vecti=[]\n",
        "  for i in range(nodes):\n",
        "    if i==x:\n",
        "      continue\n",
        "    elif i==y:\n",
        "      r=vec[y]\n",
        "      for j in range(0,len(vec[x])):\n",
        "        r.append(vec[x][j])\n",
        "      vecti.append(r)\n",
        "    else:\n",
        "      vecti.append(vec[i])\n",
        "\n",
        "  vec.clear()\n",
        "  vec=vecti"
      ],
      "execution_count": null,
      "outputs": [
        {
          "output_type": "stream",
          "text": [
            "0.00393\n",
            "225 ,-->136 ,\n",
            "\n",
            "0.00465\n",
            "359 ,-->42 ,\n",
            "\n",
            "0.0054\n",
            "15 ,-->13 ,\n",
            "\n",
            "0.00557\n",
            "188 ,-->128 ,\n",
            "\n",
            "0.00563\n",
            "222 ,-->100 ,\n",
            "\n"
          ],
          "name": "stdout"
        }
      ]
    },
    {
      "cell_type": "code",
      "metadata": {
        "colab": {
          "base_uri": "https://localhost:8080/"
        },
        "id": "eeiO29DozsfV",
        "outputId": "650616e6-56a5-4aaf-bd49-92f3e5fd7aa0"
      },
      "source": [
        "matrix"
      ],
      "execution_count": null,
      "outputs": [
        {
          "output_type": "execute_result",
          "data": {
            "text/plain": [
              "array([[ 0.  , -1.  ],\n",
              "       [ 0.22, -1.  ]])"
            ]
          },
          "metadata": {
            "tags": []
          },
          "execution_count": 102
        }
      ]
    }
  ]
}